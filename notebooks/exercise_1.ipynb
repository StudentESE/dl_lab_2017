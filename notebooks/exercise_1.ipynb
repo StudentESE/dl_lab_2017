{
 "cells": [
  {
   "cell_type": "code",
   "execution_count": 97,
   "metadata": {
    "scrolled": true
   },
   "outputs": [],
   "source": [
    "import numpy as np\n",
    "import pickle as cPickle\n",
    "import os\n",
    "import gzip\n",
    "import matplotlib.pyplot as plot\n"
   ]
  },
  {
   "cell_type": "markdown",
   "metadata": {},
   "source": [
    "# First exercise: Classifying MNIST with MLPs\n",
    "In this exercise you will implement a Neural Network (or MLP) and classify the MNIST digits with it.\n",
    "MNIST is a \"well hung\" dataset that has been used a lot over the years to benchmark different classification algorithms. \n",
    "To learn more about it have a look here: http://yann.lecun.com/exdb/mnist/ ."
   ]
  },
  {
   "cell_type": "markdown",
   "metadata": {},
   "source": [
    "# Data Loading\n",
    "We first define a function for downloading and loading MNIST.\n",
    "**WARNING**: Executing it will obviously use up some space on your machine ;). "
   ]
  },
  {
   "cell_type": "code",
   "execution_count": 98,
   "metadata": {},
   "outputs": [],
   "source": [
    "def mnist(datasets_dir='./data'):\n",
    "    if not os.path.exists(datasets_dir):\n",
    "        os.mkdir(datasets_dir)\n",
    "    data_file = os.path.join(datasets_dir, 'mnist.pkl.gz')\n",
    "    if not os.path.exists(data_file):\n",
    "        print('... downloading MNIST from the web')\n",
    "        try:\n",
    "            import urllib\n",
    "            urllib.urlretrieve('http://google.com')\n",
    "        except AttributeError:\n",
    "            import urllib.request as urllib\n",
    "        url = 'http://www.iro.umontreal.ca/~lisa/deep/data/mnist/mnist.pkl.gz'\n",
    "        urllib.urlretrieve(url, data_file)\n",
    "\n",
    "    print('... loading data')\n",
    "    # Load the dataset\n",
    "    f = gzip.open(data_file, 'rb')\n",
    "    try:\n",
    "        train_set, valid_set, test_set = cPickle.load(f, encoding=\"latin1\")\n",
    "    except TypeError:\n",
    "        train_set, valid_set, test_set = cPickle.load(f)\n",
    "    f.close()\n",
    "\n",
    "    test_x, test_y = test_set\n",
    "    test_x = test_x.astype('float32')\n",
    "    test_x = test_x.astype('float32').reshape(test_x.shape[0], 1, 28, 28)\n",
    "    test_y = test_y.astype('int32')\n",
    "    valid_x, valid_y = valid_set\n",
    "    valid_x = valid_x.astype('float32')\n",
    "    valid_x = valid_x.astype('float32').reshape(valid_x.shape[0], 1, 28, 28)\n",
    "    valid_y = valid_y.astype('int32')\n",
    "    train_x, train_y = train_set\n",
    "    train_x = train_x.astype('float32').reshape(train_x.shape[0], 1, 28, 28)\n",
    "    train_y = train_y.astype('int32')\n",
    "    rval = [(train_x, train_y), (valid_x, valid_y), (test_x, test_y)]\n",
    "    print('... done loading data')\n",
    "    return rval"
   ]
  },
  {
   "cell_type": "markdown",
   "metadata": {},
   "source": [
    "# Neural Network Layers\n",
    "We now define \"bare bone\" neural network layers.\n",
    "The parts marked with **TODO** are where you should finish the implementation!\n",
    "Conceptually we will implement the layers as follows:\n",
    "\n",
    "Each layer has a constructor that takes an input layer plus some additional arguments such as layer size and the activation function name. The layer then uses the provided input layer to compute the layer dimensions, weight shapes, etc. and setup all auxilliary variables.\n",
    "\n",
    "Each layer then has to provide three functions (as defined in the Layer class below): *output_shape()*, *fprop()* and *brop()*. The output_shape function is used to figure out the shape for the next layer and the *fprop()/bprop()* functions are used to compute forward and backward passes through the network."
   ]
  },
  {
   "cell_type": "code",
   "execution_count": 99,
   "metadata": {},
   "outputs": [],
   "source": [
    "# start by defining simple helpers\n",
    "def sigmoid(x):\n",
    "    return 1.0/(1.0+np.exp(-x))\n",
    "\n",
    "def sigmoid_d(x):\n",
    "    # TODO ################\n",
    "    # TODO: implement this!\n",
    "    # TODO ################\n",
    "    return sigmoid(x)*(1-sigmoid(x))\n",
    "\n",
    "def tanh(x):\n",
    "    return np.tanh(x)\n",
    "\n",
    "def tanh_d(x):\n",
    "    # TODO ################\n",
    "    # TODO: implement this!\n",
    "    # TODO ################\n",
    "    return (1-np.tanh(x)**2)\n",
    "\n",
    "def relu(x):\n",
    "    return np.maximum(0.0, x)\n",
    "\n",
    "def relu_d(x):\n",
    "    # TODO ################\n",
    "    # TODO: implement this!\n",
    "    # TODO ################\n",
    "    x[x > 0] = 1\n",
    "    x[x <= 0] = 0\n",
    "    return x\n",
    "\n",
    "def softmax(x, axis=1):\n",
    "    # to make the softmax a \"safe\" operation we will \n",
    "    # first subtract the maximum along the specified axis\n",
    "    # so that np.exp(x) does not blow up!\n",
    "    # Note that this does not change the output.\n",
    "    x_max = np.max(x, axis=axis, keepdims=True)\n",
    "    x_safe = x - x_max\n",
    "    e_x = np.exp(x_safe)\n",
    "    return e_x / np.sum(e_x, axis=axis, keepdims=True)\n",
    "\n",
    "def one_hot(labels):\n",
    "    \"\"\"this creates a one hot encoding from a flat vector:\n",
    "    i.e. given y = [0,2,1]\n",
    "     it creates y_one_hot = [[1,0,0], [0,0,1], [0,1,0]]\n",
    "    \"\"\"\n",
    "    classes = np.unique(labels)\n",
    "    n_classes = classes.size\n",
    "    one_hot_labels = np.zeros(labels.shape + (n_classes,))\n",
    "    for c in classes:\n",
    "        one_hot_labels[labels == c, c] = 1\n",
    "    return one_hot_labels\n",
    "\n",
    "def unhot(one_hot_labels):\n",
    "    \"\"\" Invert a one hot encoding, creating a flat vector \"\"\"\n",
    "    return np.argmax(one_hot_labels, axis=-1)\n",
    "\n",
    "# then define an activation function class\n",
    "class Activation(object):\n",
    "    \n",
    "    def __init__(self, tname):\n",
    "        if tname == 'sigmoid':\n",
    "            self.act = sigmoid\n",
    "            self.act_d = sigmoid_d\n",
    "        elif tname == 'tanh':\n",
    "            self.act = tanh\n",
    "            self.act_d = tanh_d\n",
    "        elif tname == 'relu':\n",
    "            self.act = relu\n",
    "            self.act_d = relu_d\n",
    "        else:\n",
    "            raise ValueError('Invalid activation function.')\n",
    "            \n",
    "    def fprop(self, input):\n",
    "        # we need to remember the last input\n",
    "        # so that we can calculate the derivative with respect\n",
    "        # to it later on\n",
    "        self.last_input = input\n",
    "        return self.act(input)\n",
    "    \n",
    "    def bprop(self, output_grad):\n",
    "        return output_grad * self.act_d(self.last_input)\n",
    "\n",
    "# define a base class for layers\n",
    "class Layer(object):\n",
    "    \n",
    "    def fprop(self, input):\n",
    "        \"\"\" Calculate layer output for given input \n",
    "            (forward propagation). \n",
    "        \"\"\"\n",
    "        raise NotImplementedError('This is an interface class, please use a derived instance')\n",
    "\n",
    "    def bprop(self, output_grad):\n",
    "        \"\"\" Calculate input gradient and gradient \n",
    "            with respect to weights and bias (backpropagation). \n",
    "        \"\"\"\n",
    "        raise NotImplementedError('This is an interface class, please use a derived instance')\n",
    "\n",
    "    def output_size(self):\n",
    "        \"\"\" Calculate size of this layer's output.\n",
    "        input_shape[0] is the number of samples in the input.\n",
    "        input_shape[1:] is the shape of the feature.\n",
    "        \"\"\"\n",
    "        raise NotImplementedError('This is an interface class, please use a derived instance')\n",
    "\n",
    "# define a base class for loss outputs\n",
    "# an output layer can then simply be derived\n",
    "# from both Layer and Loss \n",
    "class Loss(object):\n",
    "\n",
    "    def loss(self, output, output_net):\n",
    "        \"\"\" Calculate mean loss given real output and network output. \"\"\"\n",
    "        raise NotImplementedError('This is an interface class, please use a derived instance')\n",
    "\n",
    "    def input_grad(self, output, output_net):\n",
    "        \"\"\" Calculate input gradient real output and network output. \"\"\"\n",
    "        raise NotImplementedError('This is an interface class, please use a derived instance')\n",
    "\n",
    "# define a base class for parameterized things        \n",
    "class Parameterized(object):\n",
    "    \n",
    "    def params(self):\n",
    "        \"\"\" Return parameters (by reference) \"\"\"\n",
    "        raise NotImplementedError('This is an interface class, please use a derived instance')\n",
    "    \n",
    "    def grad_params(self):\n",
    "        \"\"\" Return accumulated gradient with respect to params. \"\"\"\n",
    "        raise NotImplementedError('This is an interface class, please use a derived instance')\n",
    "\n",
    "# define a container for providing input to the network\n",
    "class InputLayer(Layer):\n",
    "    \n",
    "    def __init__(self, input_shape):\n",
    "        if not isinstance(input_shape, tuple):\n",
    "            raise ValueError(\"InputLayer requires input_shape as a tuple\")\n",
    "        self.input_shape = input_shape\n",
    "\n",
    "    def output_size(self):\n",
    "        return self.input_shape\n",
    "    \n",
    "    def fprop(self, input):\n",
    "        return input\n",
    "    \n",
    "    def bprop(self, output_grad):\n",
    "        return output_grad\n",
    "        \n",
    "class FullyConnectedLayer(Layer, Parameterized):\n",
    "    \"\"\" A standard fully connected hidden layer, as discussed in the lecture.\n",
    "    \"\"\"\n",
    "    \n",
    "    def __init__(self, input_layer, num_units, \n",
    "                 init_stddev, activation_fun=Activation('relu')):\n",
    "        self.num_units = num_units\n",
    "        self.activation_fun = activation_fun\n",
    "        # the input shape will be of size (batch_size, num_units_prev) \n",
    "        # where num_units_prev is the number of units in the input \n",
    "        # (previous) layer\n",
    "        self.input_shape = input_layer.output_size()\n",
    "        # TODO ################################\n",
    "        # TODO: implement weight initialization\n",
    "        # TODO ################################\n",
    "        # this is the weight matrix it should have shape: (num_units_prev, num_units)\n",
    "        \n",
    "        self.W = np.random.normal(0, init_stddev, (self.input_shape[1], self.num_units))\n",
    "\n",
    "        \n",
    "        # and this is the bias vector of shape: (num_units)\n",
    "        \n",
    "        self.b = np.random.normal(0, init_stddev, self.num_units)\n",
    "        \n",
    "        \n",
    "        # create dummy variables for parameter gradients\n",
    "        # no need to change these here!\n",
    "        \n",
    "        self.dW = None\n",
    "        self.db = None\n",
    "    \n",
    "    def output_size(self):\n",
    "        return (self.input_shape[0], self.num_units)\n",
    "    \n",
    "    def fprop(self, input):\n",
    "        # TODO ################################################\n",
    "        # TODO: implement forward propagation\n",
    "        # NOTE: you should also handle the case were \n",
    "        #       activation_fun is None (meaning no activation)\n",
    "        #       then this is simply a linear layer\n",
    "        # TODO ################################################\n",
    "        # you again want to cache the last_input for the bprop\n",
    "        # implementation below!\n",
    "        self.last_input = input\n",
    "        \n",
    "        #ret = np.matmul(input,(self.W + self.b))\n",
    "        ret = input.dot(self.W) + self.b\n",
    "        \n",
    "        #self.act_in = ret\n",
    "        #if self.activation_fun is not None:\n",
    "\n",
    "        #    ret = self.activation_fun.fprop(ret)\n",
    "        #return ret\n",
    "        if self.activation_fun == None:\n",
    "            return input.dot(self.W) + self.b\n",
    "        else:\n",
    "            return self.activation_fun.fprop(input.dot(self.W) + self.b)\n",
    "        \n",
    "        #raise NotImplementedError(\"You should implement this!\")\n",
    "        #return np.zeros(self.output_size)\n",
    "        \n",
    "    def bprop(self, output_grad):\n",
    "        \"\"\" Calculate input gradient (backpropagation). \"\"\"\n",
    "        # TODO ################################\n",
    "        # TODO: implement backward propagation\n",
    "        # TODO ###############################\n",
    "        \n",
    "        # HINT: you may have to divide the weights by n\n",
    "        #       to make gradient checking work \n",
    "        #       (since you want to divide the loss by number of inputs)\n",
    "        n = output_grad.shape[0]\n",
    "        # accumulate gradient wrt. the parameters first\n",
    "        # we will need to store these to later update\n",
    "        # the network after a few forward backward passes\n",
    "       \n",
    "        # the gradient wrt. the input should be calculated here\n",
    "        #z = np.ones(output_grad.shape)\n",
    "        #if self.activation_fun is not None:\n",
    "        #    z = self.activation_fun.bprop(output_grad)\n",
    "        if self.activation_fun == None:\n",
    "            delta = output_grad\n",
    "        else:\n",
    "            delta = self.activation_fun.bprop(output_grad)\n",
    "        \n",
    "         # the gradient wrt. W should be stored as self.dW\n",
    "        #self.dW = np.matmul(self.last_input.T, z)\n",
    "        #self.dW /= n\n",
    "        \n",
    "        self.dW = np.true_divide(self.last_input.T.dot(delta), n)    \n",
    "        self.db = np.true_divide(np.sum(delta, axis=0), n)\n",
    "        \n",
    "        \n",
    "        # TODO: Compare result!\n",
    "        #self.dW = np.true_divide(self.last_input.T.dot(delta), n)    \n",
    "        #self.db = np.true_divide(np.sum(delta, axis=0), n)\n",
    "        \n",
    "        #self.db = np.sum(z, axis=0)/n\n",
    "        \n",
    "        #raise NotImplementedError(\"you should implement this\")\n",
    "        \n",
    "        #self.dW = None #FIXME\n",
    "        #self.db = None #FIXME\n",
    "        \n",
    "        #grad_input = np.zeros_like(self.last_input)\n",
    "        #grad_input = np.matmul(z, self.W.T)\n",
    "        \n",
    "        grad_input = (self.W.dot(delta.T)).T\n",
    "\n",
    "        return grad_input\n",
    "        \n",
    "    def params(self):\n",
    "        return self.W, self.b\n",
    "\n",
    "    def grad_params(self):\n",
    "        return self.dW, self.db\n",
    "\n",
    "# finally we specify the interface for output layers \n",
    "# which are layers that also have a loss function\n",
    "# we will implement two output layers:\n",
    "#  a Linear, and Softmax (Logistic Regression) layer\n",
    "# The difference between output layers and and normal \n",
    "# layers is that they will be called to compute the gradient\n",
    "# of the loss through input_grad(). bprop will never \n",
    "# be called on them!\n",
    "class LinearOutput(Layer, Loss):\n",
    "    \"\"\" A simple linear output layer that  \n",
    "        uses a squared loss (e.g. should be used for regression)\n",
    "    \"\"\"\n",
    "    def __init__(self, input_layer):\n",
    "        self.input_size = input_layer.output_size()\n",
    "        \n",
    "    def output_size(self):\n",
    "        return (1,)\n",
    "        \n",
    "    def fprop(self, input):\n",
    "        return input\n",
    "\n",
    "    def bprop(self, output_grad):\n",
    "        raise NotImplementedError(\n",
    "            'LinearOutput should only be used as the last layer of a Network'\n",
    "            + ' bprop() should thus never be called on it!'\n",
    "        )\n",
    "    \n",
    "    def input_grad(self, Y, Y_pred):\n",
    "        # TODO ####################################\n",
    "        # TODO: implement gradient of squared loss\n",
    "        # TODO ####################################\n",
    "        \n",
    "        gradient = Y_pred - Y\n",
    "        return gradient\n",
    "    \n",
    "        #return np.zeros_like(Y_pred) #FIXME\n",
    "\n",
    "    def loss(self, Y, Y_pred):\n",
    "        loss = 0.5 * np.square(Y_pred - Y)\n",
    "        return np.mean(np.sum(loss, axis=1))\n",
    "\n",
    "class SoftmaxOutput(Layer, Loss):\n",
    "    \"\"\" A softmax output layer that calculates \n",
    "        the negative log likelihood as loss\n",
    "        and should be used for classification.\n",
    "    \"\"\"\n",
    "    \n",
    "    def __init__(self, input_layer):\n",
    "        self.input_size = input_layer.output_size()\n",
    "        \n",
    "    def output_size(self):\n",
    "        return (1,)\n",
    "    \n",
    "    def fprop(self, input):\n",
    "        return softmax(input)\n",
    "    \n",
    "    def bprop(self, output_grad):\n",
    "        raise NotImplementedError(\n",
    "            'SoftmaxOutput should only be used as the last layer of a Network'\n",
    "            + ' bprop() should thus never be called on it!'\n",
    "        )\n",
    "    \n",
    "    def input_grad(self, Y, Y_pred):\n",
    "        # TODO #######################################################\n",
    "        # TODO: implement gradient of the negative log likelihood loss\n",
    "        # TODO #######################################################\n",
    "        # HINT: since this would involve taking the log \n",
    "        #       of the softmax (which is np.exp(x)/np.sum(x, axis=1))\n",
    "        #       this gradient computation can be simplified a lot! \n",
    "    \n",
    "        #gradient = Y_pred-Y\n",
    "        #return gradient\n",
    "        return -(Y - Y_pred)\n",
    "        #return np.zeros_like(Y_pred)\n",
    "\n",
    "    def loss(self, Y, Y_pred):\n",
    "        # Assume one-hot encoding of Y\n",
    "        out = Y_pred\n",
    "        # to make the loss numerically stable \n",
    "        # you may want to add an epsilon in the log ;)\n",
    "        eps = 1e-10\n",
    "        # TODO ####################################\n",
    "        # calculate negative log likelihood\n",
    "        # TODO ####################################\n",
    "        \n",
    "        #loss = -np.log(np.maximum(out, eps))\n",
    "        #loss = loss*Y\n",
    "        #loss = np.sum(loss, axis=1)\n",
    "        loss = -np.log(Y_pred + eps)*Y\n",
    "\n",
    "        #loss = np.zeros_like(out) #FIXME\n",
    "        #return np.mean(loss)\n",
    "        return np.mean(np.sum(loss, axis=1))\n",
    "\n",
    "        # TODO: Compare result!\n",
    "        #loss = -np.log(Y_pred + eps)*Y\n",
    "        #return np.mean(np.sum(loss, axis=1))"
   ]
  },
  {
   "cell_type": "markdown",
   "metadata": {},
   "source": [
    "# Neural Network class\n",
    "With all layers in place (and properly implemented by you) we can finally define a neural network.\n",
    "For our purposes a neural network is simply a collection of layers which we will cycle through and on which we will call fprop and bprop to compute partial derivatives with respect to the input and the parameters.\n",
    "\n",
    "Pay special attention to the *check_gradients()* function in which you should implement automatic differentiation. This function will become your best friend when checking the correctness of your implementation."
   ]
  },
  {
   "cell_type": "code",
   "execution_count": 100,
   "metadata": {},
   "outputs": [],
   "source": [
    "\n",
    "class NeuralNetwork:\n",
    "    \"\"\" Our Neural Network container class.\n",
    "    \"\"\"\n",
    "    def __init__(self, layers):\n",
    "        self.layers = layers\n",
    "        \n",
    "    def _loss(self, X, Y):\n",
    "        Y_pred = self.predict(X)\n",
    "        return self.layers[-1].loss(Y, Y_pred)\n",
    "\n",
    "    def predict(self, X):\n",
    "        \"\"\" Calculate an output Y for the given input X. \"\"\"\n",
    "        # TODO ##########################################\n",
    "        # TODO: implement forward pass through all layers\n",
    "        # TODO ##########################################\n",
    "        Y_pred = X #self.layers[0].fprop(X) # TODO: compare\n",
    "        for layer in self.layers[1:]:\n",
    "            Y_pred = layer.fprop(Y_pred)\n",
    "        return Y_pred\n",
    "    \n",
    "    def backpropagate(self, Y, Y_pred, upto=0):\n",
    "        \"\"\" Backpropagation of partial derivatives through \n",
    "            the complete network up to layer 'upto'\n",
    "        \"\"\"\n",
    "        next_grad = self.layers[-1].input_grad(Y, Y_pred)\n",
    "        # TODO ##########################################\n",
    "        # TODO: implement backward pass through all layers\n",
    "        # TODO ##########################################\n",
    "        #for layer in self.layers[upto:-1][::-1]:\n",
    "        #    next_grad = layer.bprop(next_grad)\n",
    "        #return next_grad\n",
    "    \n",
    "        next_grad = self.layers[-1].input_grad(Y, Y_pred)\n",
    "        \n",
    "        for i in range(len(self.layers)-1, upto, -1):\n",
    "            next_grad = self.layers[i-1].bprop(next_grad)\n",
    "            \n",
    "        return next_grad\n",
    "    \n",
    "    def classification_error(self, X, Y):\n",
    "        \"\"\" Calculate error on the given data \n",
    "            assuming they are classes that should be predicted. \n",
    "        \"\"\"\n",
    "        Y_pred = unhot(self.predict(X))\n",
    "        error = Y_pred != Y\n",
    "        return np.mean(error)\n",
    "    \n",
    "    def sgd_epoch(self, X, Y, learning_rate, batch_size):\n",
    "        n_samples = X.shape[0]\n",
    "        n_batches = n_samples // batch_size\n",
    "        Xbs = np.array_split(X, n_batches)\n",
    "        Ybs = np.array_split(Y, n_batches)\n",
    "        \n",
    "        for batch in range(n_batches):\n",
    "            # TODO #####################################\n",
    "            # Implement stochastic gradient descent here\n",
    "            # TODO #####################################\n",
    "            # start by extracting a batch from X and Y\n",
    "            #Xb = X[batch:i+batch_size-1]\n",
    "            #Yb = Y[batch:i+batch_size-1]\n",
    "            \n",
    "            Xb = Xbs[batch]\n",
    "            Yb = Ybs[batch]\n",
    "            \n",
    "            # (you can assume the inputs are already shuffled)\n",
    "\n",
    "            # TODO: then forward and backward propagation + updates\n",
    "            b_predict = self.predict(Xb)\n",
    "            gradient = self.backpropagate(Yb, b_predict)\n",
    "            \n",
    "            # HINT: layer.params() returns parameters *by reference*\n",
    "            #       so you can easily update in-place\n",
    "            \n",
    "            for layer in self.layers[1:-1]:\n",
    "                layer.b = layer.b - learning_rate*layer.db\n",
    "                layer.W = layer.W - learning_rate*layer.dW\n",
    "                \n",
    "        #        for p, param in enumerate(layer.params()):\n",
    "                    # TODO ...  \n",
    "                    \n",
    "                 #   w, b = self.layers[layer].params()\n",
    "                 #   self.layers[layer].W = w - learning_rate*self.layers[layer].dW\n",
    "                 #   self.layers[layer].b = b - learning_rate*self.layers[layer].db\n",
    "                    \n",
    "            \n",
    "                    # pradient parameter \n",
    "                    # learning rate\n",
    "        #print('not implemnted yet')\n",
    "        \n",
    "    def gd_epoch(self, X, Y):\n",
    "        # TODO ##################################################\n",
    "        # Implement batch gradient descent here\n",
    "        # A few hints:\n",
    "        #   There are two strategies you can follow:\n",
    "        #   Either shove the whole dataset throught the network\n",
    "        #   at once (which can be problematic for large datasets)\n",
    "        #   or run through it batch wise as in the sgd approach\n",
    "        #   and accumulate the gradients for all parameters as\n",
    "        #   you go through the data. Either way you should then\n",
    "        #   do one gradient step after you went through the\n",
    "        #   complete dataset!\n",
    "        # TODO ##################################################\n",
    "        \n",
    "        self.backpropagate(Y, self.predict(X))\n",
    "        \n",
    "        for layer in self.layers[1:-1]:\n",
    "        #    for p, param in enumerate(layer.params()):\n",
    "                # TODO ...\n",
    "                    \n",
    "                # pradient parameter\n",
    "                    \n",
    "                # learning rate\n",
    "            w, b = self.layers[layer].params()\n",
    "            self.layers[layer].W = w - learning_rate*self.layers[layer].dW\n",
    "            self.layers[layer].b = b - learning_rate*self.layers[layer].db\n",
    "            \n",
    "    def train(self, X, Y, X_valid, Y_valid, learning_rate=0.1, max_epochs=100, batch_size=64,\n",
    "              descent_type=\"sgd\", y_one_hot=True):\n",
    "\n",
    "        \"\"\" Train network on the given data. \"\"\"\n",
    "        n_samples = X.shape[0]\n",
    "        n_batches = n_samples // batch_size\n",
    "        if y_one_hot:\n",
    "            Y_train = one_hot(Y)\n",
    "            Y_valid_loss = one_hot(Y_valid)\n",
    "        else:\n",
    "            Y_train = Y\n",
    "            Y_valid_loss = Y_valid\n",
    "\n",
    "        # configuration\n",
    "\n",
    "        valid_losses = np.zeros(max_epochs+1)\n",
    "        losses = np.zeros(max_epochs+1)\n",
    "        valid_errors = np.zeros(max_epochs+1)\n",
    "        errors = np.zeros(max_epochs+1)\n",
    "        e = 0\n",
    "        eps = 5\n",
    "        last_loss = self._loss(X_valid, Y_valid_loss)\n",
    "        \n",
    "        \n",
    "        print(\"... starting training\")\n",
    "        for e in range(max_epochs+1):\n",
    "            if descent_type == \"sgd\":\n",
    "                self.sgd_epoch(X, Y_train, learning_rate, batch_size)\n",
    "            elif descent_type == \"gd\":\n",
    "                self.gd_epoch(X, Y_train, learning_rate)\n",
    "            else:\n",
    "                raise NotImplementedError(\"Unknown gradient descent type {}\".format(descent_type))\n",
    "\n",
    "            # Output error on the training data\n",
    "            train_loss = self._loss(X, Y_train)\n",
    "            losses[e] = train_loss\n",
    "            train_error = self.classification_error(X, Y)\n",
    "            errors[e] = train_error\n",
    "            \n",
    "            # valitation \n",
    "            v_loss = self._loss(X_valid, Y_valid_loss)\n",
    "            v_err = self.classification_error(X_valid, Y_valid)\n",
    "            val_error = self.classification_error(X_valid, Y_valid)\n",
    "            valid_errors[e] = val_error\n",
    "            \n",
    "            print('epoch {}, loss {:.4f}, train error {:.4f}'.format(e, train_loss, train_error))\n",
    "            # TODO ##################################################\n",
    "            # compute error on validation data:\n",
    "            # simply make the function take validation data as input\n",
    "            # and then compute errors here and print them\n",
    "            # TODO ##################################################\n",
    "            #print('Validation: loss {:.4f}, train error {:.4f}'.format(e, train_loss, train_error))\n",
    "            print('Epoch: {} Validation: loss {:.4f}, Validation error {:.4f}'.format(e, v_loss, v_err))\n",
    "    \n",
    "            if np.square(v_loss - last_loss) > eps and v_loss > last_loss:\n",
    "                print('Bad validation results')\n",
    "                break\n",
    "                \n",
    "            last_loss = v_loss\n",
    "            e += 1\n",
    "        plot.suptitle('Errors vs. Validation Errors')\n",
    "        plot.xlabel('Epochs')\n",
    "        plot.ylabel('Errors')\n",
    "        plot.plot(errors, label='Errors')\n",
    "        plot.plot(valid_errors, label='Validation Errors')\n",
    "        \n",
    "        plot.legend(bbox_to_anchor=(0, 1), loc='upper left', ncol=1)\n",
    "        plot.show()\n",
    "        \n",
    "    def check_gradients(self, X, Y):\n",
    "        \"\"\" Helper function to test the parameter gradients for\n",
    "        correctness. \"\"\"\n",
    "        for l, layer in enumerate(self.layers):\n",
    "            if isinstance(layer, Parameterized):\n",
    "                print('checking gradient for layer {}'.format(l))\n",
    "                for p, param in enumerate(layer.params()):\n",
    "                    # we iterate through all parameters\n",
    "                    param_shape = param.shape\n",
    "                    # define functions for conveniently swapping\n",
    "                    # out parameters of this specific layer and \n",
    "                    # computing loss and gradient with these \n",
    "                    # changed parametrs\n",
    "                    def output_given_params(param_new):\n",
    "                        \"\"\" A function that will compute the output \n",
    "                            of the network given a set of parameters\n",
    "                        \"\"\"\n",
    "                        # copy provided parameters\n",
    "                        param[:] = np.reshape(param_new, param_shape)\n",
    "                        # return computed loss\n",
    "                        return self._loss(X, Y)\n",
    "\n",
    "                    def grad_given_params(param_new):\n",
    "                        \"\"\"A function that will compute the gradient \n",
    "                           of the network given a set of parameters\n",
    "                        \"\"\"\n",
    "                        # copy provided parameters\n",
    "                        param[:] = np.reshape(param_new, param_shape)\n",
    "                        # Forward propagation through the net\n",
    "                        Y_pred = self.predict(X)\n",
    "                        # Backpropagation of partial derivatives\n",
    "                        self.backpropagate(Y, Y_pred, upto=l)\n",
    "                        # return the computed gradient \n",
    "                        return np.ravel(self.layers[l].grad_params()[p])\n",
    "\n",
    "                    # let the initial parameters be the ones that\n",
    "                    # are currently placed in the network and flatten them\n",
    "                    # to a vector for convenient comparisons, printing etc.\n",
    "                    param_init = np.ravel(np.copy(param))\n",
    "                    \n",
    "                    # TODO ####################################\n",
    "                    # TODO compute the gradient with respect to\n",
    "                    #      the initial parameters in two ways:\n",
    "                    #      1) with grad_given_params()\n",
    "                    #      2) with finite differences \n",
    "                    #         using output_given_params()\n",
    "                    #         (as discussed in the lecture)\n",
    "                    #      if your implementation is correct \n",
    "                    #      both results should be epsilon close\n",
    "                    #      to each other!\n",
    "                    # TODO ####################################\n",
    "                    epsilon = 1e-4\n",
    "                    # making sure your gradient checking routine itself \n",
    "                    # has no errors can be a bit tricky. To debug it\n",
    "                    # you can \"cheat\" by using scipy which implements\n",
    "                    # gradient checking exactly the way you should!\n",
    "                    # To do that simply run the following here:\n",
    "                    #import scipy.optimize\n",
    "                    #err = scipy.optimize.check_grad(output_given_params, \n",
    "                    #                                grad_given_params, param_init)\n",
    "                    loss_base = output_given_params(param_init)\n",
    "                    # TODO this should hold the gradient as calculated through bprop\n",
    "                    #gparam_bprop = None \n",
    "                    gparam_bprop = grad_given_params(param_init)\n",
    "                    \n",
    "                    # TODO this should hold the gradient calculated through \n",
    "                    #      finite differences\n",
    "                    #gparam_fd = np.zeros_like(param_init)\n",
    "                    gparam_fd = np.array([])\n",
    "                    \n",
    "                    \n",
    "                    # calculate difference between them\n",
    "                    #err = np.mean(np.abs(gparam_bprop - gparam_fd))\n",
    "                    \n",
    "                    # source: https://docs.scipy.org/doc/scipy-0.19.1/reference/generated/scipy.optimize.check_grad.html\n",
    "                    import scipy.optimize\n",
    "                    err = scipy.optimize.check_grad(output_given_params, \n",
    "                                                    grad_given_params, param_init)\n",
    "                    p_ = np.zeros_like(param_init)\n",
    "                    for i in range(len(param_init)):\n",
    "                        p_hat = np.copy(param_init)\n",
    "                        p_hat[i] += epsilon\n",
    "                        p_[i] = (output_given_params(p_hat) - loss_base)/epsilon\n",
    "                        \n",
    "                    print('diff {:.2e}'.format(err))\n",
    "                    #assert(err < epsilon)\n",
    "                    \n",
    "                    # reset the parameters to their initial values\n",
    "                    param[:] = np.reshape(param_init, param_shape)"
   ]
  },
  {
   "cell_type": "markdown",
   "metadata": {},
   "source": [
    "# Gradient Checking\n",
    "After implementing everything it is always a good idea to setup some layers and perform gradient\n",
    "checking on random data. **Note** that this is only an example! It is not a useful network architecture ;). We also expect you to play around with this to test all your implemented components."
   ]
  },
  {
   "cell_type": "code",
   "execution_count": 101,
   "metadata": {},
   "outputs": [],
   "source": [
    "input_shape = (5, 10)\n",
    "n_labels = 6\n",
    "layers = [InputLayer(input_shape)]\n",
    "\n",
    "layers.append(FullyConnectedLayer(\n",
    "                layers[-1],\n",
    "                num_units=15,\n",
    "                init_stddev=0.1,\n",
    "                activation_fun=Activation('relu')\n",
    "))\n",
    "layers.append(FullyConnectedLayer(\n",
    "                layers[-1],\n",
    "                num_units=6,\n",
    "                init_stddev=0.1,\n",
    "                activation_fun=Activation('tanh')\n",
    "))\n",
    "layers.append(FullyConnectedLayer(\n",
    "                layers[-1],\n",
    "                num_units=n_labels,\n",
    "                init_stddev=0.1,\n",
    "                activation_fun=Activation('relu')\n",
    "))\n",
    "layers.append(SoftmaxOutput(layers[-1]))\n",
    "nn = NeuralNetwork(layers)"
   ]
  },
  {
   "cell_type": "code",
   "execution_count": 102,
   "metadata": {},
   "outputs": [],
   "source": [
    "# create random data\n",
    "X = np.random.normal(size=input_shape)\n",
    "# and random labels\n",
    "Y = np.zeros((input_shape[0], n_labels))\n",
    "for i in range(Y.shape[0]):\n",
    "    idx = np.random.randint(n_labels)\n",
    "    Y[i, idx] = 1."
   ]
  },
  {
   "cell_type": "code",
   "execution_count": 103,
   "metadata": {},
   "outputs": [
    {
     "name": "stdout",
     "output_type": "stream",
     "text": [
      "checking gradient for layer 1\n",
      "diff 1.30e-07\n",
      "diff 4.62e-08\n",
      "checking gradient for layer 2\n",
      "diff 9.07e-08\n",
      "diff 2.36e-08\n",
      "checking gradient for layer 3\n",
      "diff 6.10e-08\n",
      "diff 3.59e-08\n"
     ]
    }
   ],
   "source": [
    "nn.check_gradients(X, Y)"
   ]
  },
  {
   "cell_type": "markdown",
   "metadata": {},
   "source": [
    "# Training on MNIST\n",
    "Finally we can let our network run on the MNIST dataset!"
   ]
  },
  {
   "cell_type": "markdown",
   "metadata": {},
   "source": [
    "First load the data and reshape it."
   ]
  },
  {
   "cell_type": "code",
   "execution_count": 104,
   "metadata": {},
   "outputs": [
    {
     "name": "stdout",
     "output_type": "stream",
     "text": [
      "... loading data\n",
      "... done loading data\n"
     ]
    }
   ],
   "source": [
    "# load\n",
    "Dtrain, Dval, Dtest = mnist()\n",
    "X_train, y_train = Dtrain\n",
    "X_valid, y_valid = Dval\n",
    "# Downsample training data to make it a bit faster for testing this code\n",
    "#n_train_samples = 10000\n",
    "n_train_samples = X_train.shape[0]\n",
    "train_idxs = np.random.permutation(X_train.shape[0])[:n_train_samples]\n",
    "X_train = X_train[train_idxs]\n",
    "y_train = y_train[train_idxs]"
   ]
  },
  {
   "cell_type": "markdown",
   "metadata": {},
   "source": [
    "*Dtrain* contains 50k images which are of size 28 x 28 pixels. Hence:"
   ]
  },
  {
   "cell_type": "code",
   "execution_count": 105,
   "metadata": {},
   "outputs": [
    {
     "name": "stdout",
     "output_type": "stream",
     "text": [
      "X_train shape: (50000, 1, 28, 28)\n",
      "y_train shape: (50000,)\n"
     ]
    }
   ],
   "source": [
    "print(\"X_train shape: {}\".format(np.shape(X_train)))\n",
    "print(\"y_train shape: {}\".format(np.shape(y_train)))"
   ]
  },
  {
   "cell_type": "markdown",
   "metadata": {},
   "source": [
    "y_train will automatically be converted in the *train()* function to one_hot encoding.\n",
    "\n",
    "\n",
    "But we need to reshape X_train, as our Network expects flat vectors of size 28*28 as input!"
   ]
  },
  {
   "cell_type": "code",
   "execution_count": 106,
   "metadata": {},
   "outputs": [
    {
     "name": "stdout",
     "output_type": "stream",
     "text": [
      "Reshaped X_train size: (50000, 784)\n",
      "Reshaped X_valid size: (10000, 784)\n"
     ]
    }
   ],
   "source": [
    "X_train = X_train.reshape(X_train.shape[0], -1)\n",
    "print(\"Reshaped X_train size: {}\".format(X_train.shape))\n",
    "X_valid = X_valid.reshape((X_valid.shape[0], -1))\n",
    "print(\"Reshaped X_valid size: {}\".format(X_valid.shape))"
   ]
  },
  {
   "cell_type": "markdown",
   "metadata": {},
   "source": [
    "Ah, much better ;-)! \n",
    "\n",
    "Now we can finally really start training a Network!\n",
    "\n",
    "\n",
    "I pre-defined a small Network for you below. Again This is not really a good default and will not produce state of the art results. Please play around with this a bit. See how different activation functions and training procedures (gd / sgd) affect the result."
   ]
  },
  {
   "cell_type": "code",
   "execution_count": 107,
   "metadata": {
    "scrolled": false
   },
   "outputs": [
    {
     "name": "stdout",
     "output_type": "stream",
     "text": [
      "... starting training\n",
      "epoch 0, loss 0.5163, train error 0.1573\n",
      "Epoch: 0 Validation: loss 0.4784, Validation error 0.1454\n",
      "epoch 1, loss 0.2791, train error 0.0808\n",
      "Epoch: 1 Validation: loss 0.2647, Validation error 0.0781\n",
      "epoch 2, loss 0.1751, train error 0.0505\n",
      "Epoch: 2 Validation: loss 0.1722, Validation error 0.0492\n",
      "epoch 3, loss 0.1323, train error 0.0384\n",
      "Epoch: 3 Validation: loss 0.1384, Validation error 0.0418\n",
      "epoch 4, loss 0.1111, train error 0.0330\n",
      "Epoch: 4 Validation: loss 0.1252, Validation error 0.0369\n",
      "epoch 5, loss 0.0923, train error 0.0279\n",
      "Epoch: 5 Validation: loss 0.1138, Validation error 0.0338\n",
      "epoch 6, loss 0.0756, train error 0.0223\n",
      "Epoch: 6 Validation: loss 0.1037, Validation error 0.0316\n",
      "epoch 7, loss 0.0645, train error 0.0187\n",
      "Epoch: 7 Validation: loss 0.0985, Validation error 0.0299\n",
      "epoch 8, loss 0.0584, train error 0.0176\n",
      "Epoch: 8 Validation: loss 0.0978, Validation error 0.0290\n",
      "epoch 9, loss 0.0535, train error 0.0162\n",
      "Epoch: 9 Validation: loss 0.0975, Validation error 0.0288\n",
      "epoch 10, loss 0.0487, train error 0.0149\n",
      "Epoch: 10 Validation: loss 0.0969, Validation error 0.0277\n",
      "epoch 11, loss 0.0449, train error 0.0138\n",
      "Epoch: 11 Validation: loss 0.0972, Validation error 0.0276\n",
      "epoch 12, loss 0.0423, train error 0.0130\n",
      "Epoch: 12 Validation: loss 0.0992, Validation error 0.0275\n",
      "epoch 13, loss 0.0367, train error 0.0112\n",
      "Epoch: 13 Validation: loss 0.0977, Validation error 0.0264\n",
      "epoch 14, loss 0.0358, train error 0.0114\n",
      "Epoch: 14 Validation: loss 0.1013, Validation error 0.0270\n",
      "epoch 15, loss 0.0301, train error 0.0095\n",
      "Epoch: 15 Validation: loss 0.0986, Validation error 0.0262\n",
      "epoch 16, loss 0.0254, train error 0.0078\n",
      "Epoch: 16 Validation: loss 0.0970, Validation error 0.0253\n",
      "epoch 17, loss 0.0228, train error 0.0069\n",
      "Epoch: 17 Validation: loss 0.0975, Validation error 0.0256\n",
      "epoch 18, loss 0.0187, train error 0.0056\n",
      "Epoch: 18 Validation: loss 0.0960, Validation error 0.0249\n",
      "epoch 19, loss 0.0162, train error 0.0047\n",
      "Epoch: 19 Validation: loss 0.0967, Validation error 0.0250\n",
      "epoch 20, loss 0.0162, train error 0.0048\n",
      "Epoch: 20 Validation: loss 0.0994, Validation error 0.0252\n"
     ]
    },
    {
     "data": {
      "image/png": "[encoded data removed]",
      "text/plain": [
       "<matplotlib.figure.Figure at 0x11b899710>"
      ]
     },
     "metadata": {},
     "output_type": "display_data"
    },
    {
     "name": "stdout",
     "output_type": "stream",
     "text": [
      "Duration: 116.0s\n"
     ]
    }
   ],
   "source": [
    "import time\n",
    "\n",
    "# Setup a small MLP / Neural Network\n",
    "# we can set the first shape to None here to indicate that\n",
    "# we will input a variable number inputs to the network\n",
    "input_shape = (None, 28*28)\n",
    "layers = [InputLayer(input_shape)]\n",
    "layers.append(FullyConnectedLayer(\n",
    "                layers[-1],\n",
    "                num_units=100,\n",
    "                init_stddev=0.01,\n",
    "                activation_fun=Activation('relu')\n",
    "))\n",
    "layers.append(FullyConnectedLayer(\n",
    "                layers[-1],\n",
    "                num_units=100,\n",
    "                init_stddev=0.01,\n",
    "                activation_fun=Activation('relu')\n",
    "))\n",
    "layers.append(FullyConnectedLayer(\n",
    "                layers[-1],\n",
    "                num_units=10,\n",
    "                init_stddev=0.01,\n",
    "                # last layer has no nonlinearity \n",
    "                # (softmax will be applied in the output layer)\n",
    "                activation_fun=None \n",
    "))\n",
    "layers.append(SoftmaxOutput(layers[-1]))\n",
    "\n",
    "nn = NeuralNetwork(layers)\n",
    "# Train neural network\n",
    "t0 = time.time()\n",
    "nn.train(X_train, y_train, X_valid, y_valid, learning_rate=0.1, \n",
    "         max_epochs=20, batch_size=64, y_one_hot=True)\n",
    "t1 = time.time()\n",
    "print('Duration: {:.1f}s'.format(t1-t0))"
   ]
  },
  {
   "cell_type": "markdown",
   "metadata": {
    "collapsed": true
   },
   "source": [
    "# Figure out a reasonable Network that achieves good performance\n",
    "As the last part of this task, setup a network that works well and gets reasonable accuracy, say ~ 1-3 percent error on the **validation set**. \n",
    "Train this network on the complete data and compute the **test error**. \n",
    "\n",
    "Once you have done this, visualize a few digits from the the test set that the network gets right as well as a few that the network gets wrong!"
   ]
  },
  {
   "cell_type": "code",
   "execution_count": 108,
   "metadata": {},
   "outputs": [
    {
     "name": "stdout",
     "output_type": "stream",
     "text": [
      "Test error: 0.02620\n",
      "Errors per figure:  [ 10.   8.  29.  20.  52.  24.  24.  32.  37.  26.]\n",
      "Number 1 has best matchings and 4 was the most incorrectly classified figure\n"
     ]
    },
    {
     "data": {
      "image/png": "[encoded data removed]",
      "text/plain": [
       "<matplotlib.figure.Figure at 0x11b869d68>"
      ]
     },
     "metadata": {},
     "output_type": "display_data"
    },
    {
     "data": {
      "image/png": "[encoded data removed]",
      "text/plain": [
       "<matplotlib.figure.Figure at 0x11eab4f28>"
      ]
     },
     "metadata": {},
     "output_type": "display_data"
    },
    {
     "data": {
      "image/png": "[encoded data removed]",
      "text/plain": [
       "<matplotlib.figure.Figure at 0x11b2cc780>"
      ]
     },
     "metadata": {},
     "output_type": "display_data"
    },
    {
     "data": {
      "image/png": "[encoded data removed]",
      "text/plain": [
       "<matplotlib.figure.Figure at 0x11e895dd8>"
      ]
     },
     "metadata": {},
     "output_type": "display_data"
    },
    {
     "data": {
      "image/png": "[encoded data removed]",
      "text/plain": [
       "<matplotlib.figure.Figure at 0x11ea907f0>"
      ]
     },
     "metadata": {},
     "output_type": "display_data"
    },
    {
     "data": {
      "image/png": "[encoded data removed]",
      "text/plain": [
       "<matplotlib.figure.Figure at 0x10e91f0f0>"
      ]
     },
     "metadata": {},
     "output_type": "display_data"
    },
    {
     "data": {
      "image/png": "[encoded data removed]",
      "text/plain": [
       "<matplotlib.figure.Figure at 0x11bc914a8>"
      ]
     },
     "metadata": {},
     "output_type": "display_data"
    },
    {
     "data": {
      "image/png": "[encoded data removed]",
      "text/plain": [
       "<matplotlib.figure.Figure at 0x10e91f518>"
      ]
     },
     "metadata": {},
     "output_type": "display_data"
    },
    {
     "data": {
      "image/png": "[encoded data removed]",
      "text/plain": [
       "<matplotlib.figure.Figure at 0x11e9086d8>"
      ]
     },
     "metadata": {},
     "output_type": "display_data"
    },
    {
     "data": {
      "image/png": "[encoded data removed]",
      "text/plain": [
       "<matplotlib.figure.Figure at 0x11e9062e8>"
      ]
     },
     "metadata": {},
     "output_type": "display_data"
    },
    {
     "name": "stdout",
     "output_type": "stream",
     "text": [
      "Failing mostly with: \n"
     ]
    },
    {
     "data": {
      "image/png": "[encoded data removed]",
      "text/plain": [
       "<matplotlib.figure.Figure at 0x11b81fba8>"
      ]
     },
     "metadata": {},
     "output_type": "display_data"
    },
    {
     "data": {
      "image/png": "[encoded data removed]",
      "text/plain": [
       "<matplotlib.figure.Figure at 0x11b89d320>"
      ]
     },
     "metadata": {},
     "output_type": "display_data"
    },
    {
     "data": {
      "image/png": "[encoded data removed]",
      "text/plain": [
       "<matplotlib.figure.Figure at 0x11bbf2c88>"
      ]
     },
     "metadata": {},
     "output_type": "display_data"
    },
    {
     "data": {
      "image/png": "[encoded data removed]",
      "text/plain": [
       "<matplotlib.figure.Figure at 0x11b80a550>"
      ]
     },
     "metadata": {},
     "output_type": "display_data"
    },
    {
     "data": {
      "image/png": "[encoded data removed]",
      "text/plain": [
       "<matplotlib.figure.Figure at 0x11b8125f8>"
      ]
     },
     "metadata": {},
     "output_type": "display_data"
    },
    {
     "data": {
      "image/png": "[encoded data removed]",
      "text/plain": [
       "<matplotlib.figure.Figure at 0x11e7b1d68>"
      ]
     },
     "metadata": {},
     "output_type": "display_data"
    },
    {
     "data": {
      "image/png": "[encoded data removed]",
      "text/plain": [
       "<matplotlib.figure.Figure at 0x10e932f60>"
      ]
     },
     "metadata": {},
     "output_type": "display_data"
    },
    {
     "data": {
      "image/png": "[encoded data removed]",
      "text/plain": [
       "<matplotlib.figure.Figure at 0x11ba63470>"
      ]
     },
     "metadata": {},
     "output_type": "display_data"
    },
    {
     "data": {
      "image/png": "[encoded data removed]",
      "text/plain": [
       "<matplotlib.figure.Figure at 0x10e9324e0>"
      ]
     },
     "metadata": {},
     "output_type": "display_data"
    },
    {
     "data": {
      "image/png": "[encoded data removed]",
      "text/plain": [
       "<matplotlib.figure.Figure at 0x11baf55f8>"
      ]
     },
     "metadata": {},
     "output_type": "display_data"
    }
   ],
   "source": [
    "def sm(im):\n",
    "    d = (np.reshape(im, (28, 28)) * 255).astype(np.uint8)\n",
    "    plot.imshow(d, interpolation='nearest')\n",
    "    plot.show()\n",
    "    \n",
    "Xtest, Y_test = Dtest\n",
    "X_test = Xtest.reshape(Xtest.shape[0], -1)\n",
    "Y_pred = nn.predict(X_test)\n",
    "e = nn.classification_error(X_test, Y_test)\n",
    "print('Test error: {:.5f}' .format(e))\n",
    "\n",
    "ef = np.zeros(10)\n",
    "nothot = unhot(Y_pred)\n",
    "for i in range(len(nothot)):\n",
    "    if nothot[i] != Y_test[i]:\n",
    "        ef[Y_test[i]] += 1\n",
    "print('Errors per figure: ',ef)\n",
    "\n",
    "og = np.argmin(ef)\n",
    "\n",
    "ob = np.argmax(ef)\n",
    "print('Number {} has best matchings and {} was the most incorrectly classified figure' .format(og,ob))\n",
    "import heapq\n",
    "diff = np.abs(Y_pred - one_hot(Y_test)).flatten()\n",
    "\n",
    "b = diff.argsort()[0:10]\n",
    "\n",
    "for i in range(10):\n",
    "    sm(Xtest[b[i]//10, :, : ,:])\n",
    "\n",
    "print('Failing mostly with: ')\n",
    "w = diff.argsort()[-11:]\n",
    "for i in range(10):\n",
    "    sm(Xtest[w[i]//10, :, : ,:])"
   ]
  }
 ],
 "metadata": {
  "kernelspec": {
   "display_name": "Python 3",
   "language": "python",
   "name": "python3"
  },
  "language_info": {
   "codemirror_mode": {
    "name": "ipython",
    "version": 3
   },
   "file_extension": ".py",
   "mimetype": "text/x-python",
   "name": "python",
   "nbconvert_exporter": "python",
   "pygments_lexer": "ipython3",
   "version": "3.6.3"
  }
 },
 "nbformat": 4,
 "nbformat_minor": 1
}
